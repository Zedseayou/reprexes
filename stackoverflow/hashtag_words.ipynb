{
 "cells": [
  {
   "cell_type": "code",
   "execution_count": 1,
   "metadata": {},
   "outputs": [],
   "source": [
    "s1 = 'Makeupby Antonia #makeup #makeupartist #makeupdolls #abhcosmetics'\n",
    "s2 = 'Makeupby Antonia asia #makeup #makeupartist #makeupdolls'\n",
    "s3 = 'Makeupby Antonia'\n",
    "s4 = '#makeup #makeupartist #makeupdolls #abhcosmetics'  "
   ]
  },
  {
   "cell_type": "code",
   "execution_count": 31,
   "metadata": {},
   "outputs": [
    {
     "data": {
      "text/plain": [
       "['Makeupby Antonia #makeup #makeupartist #makeupdolls #abhcosmetics',\n",
       " 'Makeupby Antonia asia #makeup #makeupartist #makeupdolls']"
      ]
     },
     "execution_count": 31,
     "metadata": {},
     "output_type": "execute_result"
    }
   ],
   "source": [
    "s_list = [s1, s2, s3, s4]\n",
    "\n",
    "def hashtag_words(string_list):\n",
    "    words = [s.split(\" \") for s in string_list]\n",
    "    hashcounts = [[\"#\" in word for word in wordlist].count(True) for wordlist in words]\n",
    "    normcounts = [len(wordlist) - hashcount for wordlist, hashcount in zip(words, hashcounts)]\n",
    "    sel_strings = [s for s, h, n in zip(string_list, hashcounts, normcounts) if h>1 if n in (1,2,3)]\n",
    "    return sel_strings\n",
    "\n",
    "hashtag_words(s_list)"
   ]
  },
  {
   "cell_type": "code",
   "execution_count": 32,
   "metadata": {},
   "outputs": [
    {
     "name": "stdout",
     "output_type": "stream",
     "text": [
      "4.38 µs ± 74.3 ns per loop (mean ± std. dev. of 7 runs, 100000 loops each)\n"
     ]
    }
   ],
   "source": [
    "%timeit hashtag_words(s_list)"
   ]
  }
 ],
 "metadata": {
  "kernelspec": {
   "display_name": "Python 3",
   "language": "python",
   "name": "python3"
  },
  "language_info": {
   "codemirror_mode": {
    "name": "ipython",
    "version": 3
   },
   "file_extension": ".py",
   "mimetype": "text/x-python",
   "name": "python",
   "nbconvert_exporter": "python",
   "pygments_lexer": "ipython3",
   "version": "3.6.5"
  }
 },
 "nbformat": 4,
 "nbformat_minor": 2
}
